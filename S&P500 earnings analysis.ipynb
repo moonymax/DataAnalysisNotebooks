{
 "cells": [
  {
   "cell_type": "code",
   "execution_count": 1,
   "metadata": {},
   "outputs": [],
   "source": [
    "import matplotlib.pyplot as plt"
   ]
  },
  {
   "cell_type": "code",
   "execution_count": 2,
   "metadata": {},
   "outputs": [],
   "source": [
    "import pandas as pd"
   ]
  },
  {
   "cell_type": "code",
   "execution_count": 3,
   "metadata": {},
   "outputs": [],
   "source": [
    "price_file = open('historicalprices', 'r')\n",
    "inf_price_file = open('historicalpricesinflationadjusted', 'r')\n",
    "earnings_file = open('yield', 'r')\n",
    "dividend_file = open('dividend', 'r')\n",
    "\n",
    "price_raw = price_file.readlines()\n",
    "inf_price_raw = inf_price_file.readlines()\n",
    "earnings_raw = earnings_file.readlines()\n",
    "dividend_raw = dividend_file.readlines()\n",
    "\n",
    "pricen = []\n",
    "inf_pricen = []\n",
    "earningsn = []\n",
    "dividendn = []"
   ]
  },
  {
   "cell_type": "code",
   "execution_count": 4,
   "metadata": {},
   "outputs": [],
   "source": [
    "def to_number(string):\n",
    "    string_price = string[12:-1]\n",
    "    clean_string = ''\n",
    "    for i in range(len(string_price)):\n",
    "        if string_price[i] != \",\":\n",
    "            clean_string += string_price[i]\n",
    "    return float(clean_string)\n",
    "\n",
    "def to_percent(string):\n",
    "    string_percent = string[12:-1]\n",
    "    clean_string = ''\n",
    "    for i in range(len(string_percent)):\n",
    "        if string_percent[i] != \"%\":\n",
    "            clean_string += string_percent[i]\n",
    "    return float(clean_string)/100"
   ]
  },
  {
   "cell_type": "code",
   "execution_count": 5,
   "metadata": {},
   "outputs": [
    {
     "name": "stdout",
     "output_type": "stream",
     "text": [
      "151\n",
      "151\n",
      "151\n",
      "151\n"
     ]
    }
   ],
   "source": [
    "for index in range(len(price_raw)):\n",
    "    pricen.append(to_number(price_raw[index]))\n",
    "pricen.reverse()\n",
    "pricen = pricen[:-1]\n",
    "print(len(pricen))\n",
    "for index in range(len(inf_price_raw)):\n",
    "    inf_pricen.append(to_number(inf_price_raw[index]))\n",
    "inf_pricen.reverse()\n",
    "inf_pricen = inf_pricen[:-1]\n",
    "print(len(inf_pricen))\n",
    "for index in range(len(earnings_raw)):\n",
    "    earningsn.append(to_percent(earnings_raw[index]))\n",
    "earningsn.reverse()\n",
    "earningsn = earningsn[:-1]\n",
    "print(len(earningsn))\n",
    "for index in range(len(dividend_raw)):\n",
    "    dividendn.append(to_percent(dividend_raw[index]))\n",
    "dividendn.reverse()\n",
    "print(len(dividendn))"
   ]
  },
  {
   "cell_type": "code",
   "execution_count": 6,
   "metadata": {},
   "outputs": [
    {
     "name": "stdout",
     "output_type": "stream",
     "text": [
      "151\n"
     ]
    }
   ],
   "source": [
    "inflation = []\n",
    "for i in range(len(pricen)):\n",
    "    inflation.append(pricen[i]/inf_pricen[i])\n",
    "print(len(inflation))"
   ]
  },
  {
   "cell_type": "code",
   "execution_count": 7,
   "metadata": {},
   "outputs": [
    {
     "name": "stdout",
     "output_type": "stream",
     "text": [
      "151\n"
     ]
    }
   ],
   "source": [
    "abse = []\n",
    "for i in range(len(pricen)):\n",
    "    abse.append(pricen[i]*earningsn[i])\n",
    "print(len(abse))"
   ]
  },
  {
   "cell_type": "code",
   "execution_count": 8,
   "metadata": {
    "scrolled": true
   },
   "outputs": [
    {
     "name": "stdout",
     "output_type": "stream",
     "text": [
      "151\n"
     ]
    }
   ],
   "source": [
    "eg = []\n",
    "for i in range(len(abse)-1):\n",
    "    eg.append(abse[i+1]-abse[i])\n",
    "eg.append(1)\n",
    "print(len(eg))"
   ]
  },
  {
   "cell_type": "code",
   "execution_count": 9,
   "metadata": {
    "scrolled": true
   },
   "outputs": [
    {
     "name": "stdout",
     "output_type": "stream",
     "text": [
      "151\n"
     ]
    }
   ],
   "source": [
    "re = []\n",
    "for i in range(len(earningsn)):\n",
    "    re.append((earningsn[i]-dividendn[i])*pricen[i])\n",
    "print(len(re))"
   ]
  },
  {
   "cell_type": "code",
   "execution_count": 10,
   "metadata": {},
   "outputs": [
    {
     "name": "stdout",
     "output_type": "stream",
     "text": [
      "151\n"
     ]
    }
   ],
   "source": [
    "roi = []\n",
    "for i in range(len(eg)-1):\n",
    "    roi.append(eg[i+1]/re[i])\n",
    "roi.append(0.1)\n",
    "print(len(roi))"
   ]
  },
  {
   "cell_type": "code",
   "execution_count": 11,
   "metadata": {},
   "outputs": [],
   "source": [
    "numbers = {'eyield': earningsn, 'dyield': dividendn, 'iprices': inf_pricen, 'prices': pricen, 'inflation': inflation, 'earnings': abse, 'earnings growth': eg, 'retained earnings': re, 'return on investment': roi}\n",
    "df = pd.DataFrame(numbers)"
   ]
  },
  {
   "cell_type": "code",
   "execution_count": 12,
   "metadata": {
    "scrolled": true
   },
   "outputs": [
    {
     "data": {
      "text/plain": [
       "[<matplotlib.lines.Line2D at 0x7f1282baa4f0>]"
      ]
     },
     "execution_count": 12,
     "metadata": {},
     "output_type": "execute_result"
    },
    {
     "data": {
      "image/png": "[encoded data removed]",
      "text/plain": [
       "<Figure size 432x288 with 1 Axes>"
      ]
     },
     "metadata": {
      "needs_background": "light"
     },
     "output_type": "display_data"
    }
   ],
   "source": [
    "plt.plot(df['return on investment'])"
   ]
  },
  {
   "cell_type": "code",
   "execution_count": 13,
   "metadata": {
    "scrolled": false
   },
   "outputs": [
    {
     "data": {
      "text/plain": [
       "0.133326876193098"
      ]
     },
     "execution_count": 13,
     "metadata": {},
     "output_type": "execute_result"
    }
   ],
   "source": [
    "df['return on investment'].mean()"
   ]
  }
 ],
 "metadata": {
  "kernelspec": {
   "display_name": "Python 3",
   "language": "python",
   "name": "python3"
  },
  "language_info": {
   "codemirror_mode": {
    "name": "ipython",
    "version": 3
   },
   "file_extension": ".py",
   "mimetype": "text/x-python",
   "name": "python",
   "nbconvert_exporter": "python",
   "pygments_lexer": "ipython3",
   "version": "3.9.1+"
  }
 },
 "nbformat": 4,
 "nbformat_minor": 4
}
