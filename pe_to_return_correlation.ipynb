{
 "cells": [
  {
   "cell_type": "code",
   "execution_count": 1,
   "metadata": {},
   "outputs": [],
   "source": [
    "import matplotlib.pyplot as plt"
   ]
  },
  {
   "cell_type": "code",
   "execution_count": 2,
   "metadata": {},
   "outputs": [],
   "source": [
    "import pandas as pd"
   ]
  },
  {
   "cell_type": "code",
   "execution_count": 3,
   "metadata": {},
   "outputs": [],
   "source": [
    "price_file = open('s&p500price', 'r')\n",
    "prices_raw = price_file.readlines()"
   ]
  },
  {
   "cell_type": "code",
   "execution_count": 4,
   "metadata": {},
   "outputs": [],
   "source": [
    "only_prices = []\n",
    "for price in prices_raw:\n",
    "    only_prices.append(price[12:])\n",
    "allowed = ['1', '2', '3', '4', '5', '6', '7', '8', '9', '0', '.']"
   ]
  },
  {
   "cell_type": "code",
   "execution_count": 5,
   "metadata": {},
   "outputs": [],
   "source": [
    "def cleanlist(listfile, allowed):\n",
    "    parsedlist = []\n",
    "    for item in listfile:\n",
    "        tempitem = ''\n",
    "        for character in item:\n",
    "            if character in allowed:\n",
    "                tempitem += character\n",
    "        parsedlist.append(tempitem)\n",
    "    return parsedlist"
   ]
  },
  {
   "cell_type": "code",
   "execution_count": 6,
   "metadata": {},
   "outputs": [],
   "source": [
    "pre_parse_prices = cleanlist(only_prices, allowed)[2:]"
   ]
  },
  {
   "cell_type": "code",
   "execution_count": 7,
   "metadata": {},
   "outputs": [],
   "source": [
    "prices = []\n",
    "for price in pre_parse_prices:\n",
    "    prices.append(float(price))"
   ]
  },
  {
   "cell_type": "code",
   "execution_count": 8,
   "metadata": {},
   "outputs": [],
   "source": [
    "pe_file = open('peratio', 'r')\n",
    "pe_raw = pe_file.readlines()"
   ]
  },
  {
   "cell_type": "code",
   "execution_count": 9,
   "metadata": {},
   "outputs": [],
   "source": [
    "pre_parse_pe =[]\n",
    "for ratio in pe_raw:\n",
    "    pre_parse_pe.append(ratio[12:])"
   ]
  },
  {
   "cell_type": "code",
   "execution_count": 10,
   "metadata": {},
   "outputs": [],
   "source": [
    "parsed_pe = cleanlist(pre_parse_pe, allowed)\n",
    "pe = []\n",
    "for ratio in parsed_pe:\n",
    "    pe.append(float(ratio))"
   ]
  },
  {
   "cell_type": "code",
   "execution_count": 11,
   "metadata": {},
   "outputs": [],
   "source": [
    "shorter = 0\n",
    "if len(pe) < len(prices):\n",
    "    shorter = len(pe)\n",
    "else:\n",
    "    shorter = len(prices)"
   ]
  },
  {
   "cell_type": "code",
   "execution_count": 12,
   "metadata": {},
   "outputs": [],
   "source": [
    "decadereturn = []\n",
    "time = 10\n",
    "for i in range(shorter-12*time):\n",
    "    decadereturn.append((prices[i] - prices[i+12*time])/prices[i+12*time])\n",
    "\n",
    "earningsyield = []\n",
    "for ratio in pe:\n",
    "    earningsyield.append(1/ratio)"
   ]
  },
  {
   "cell_type": "code",
   "execution_count": 13,
   "metadata": {},
   "outputs": [],
   "source": [
    "treasury_file = open('10yeartreasury', 'r')\n",
    "treasury_raw = treasury_file.readlines()"
   ]
  },
  {
   "cell_type": "code",
   "execution_count": 14,
   "metadata": {},
   "outputs": [],
   "source": [
    "pretreasury = []\n",
    "for jpow in treasury_raw:\n",
    "    pretreasury.append(jpow[12:])\n",
    "brr = cleanlist(pretreasury, allowed)[2:-1]"
   ]
  },
  {
   "cell_type": "code",
   "execution_count": 15,
   "metadata": {},
   "outputs": [],
   "source": [
    "rate = []\n",
    "for powell in brr:\n",
    "    rate.append(float(powell))"
   ]
  },
  {
   "cell_type": "code",
   "execution_count": 16,
   "metadata": {},
   "outputs": [],
   "source": [
    "ratechange = []\n",
    "for i in range(len(rate)-12*time):\n",
    "    ratechange.append(rate[i]/rate[i+12*time])"
   ]
  },
  {
   "cell_type": "code",
   "execution_count": 17,
   "metadata": {},
   "outputs": [],
   "source": [
    "def shortest(intlist):\n",
    "    current = intlist[0]\n",
    "    for i in intlist:\n",
    "        if i < current:\n",
    "            current = i\n",
    "    return current"
   ]
  },
  {
   "cell_type": "code",
   "execution_count": 18,
   "metadata": {},
   "outputs": [],
   "source": [
    "adjdecadereturn = []\n",
    "for i in range(shortest([len(rate)+ 12*time, len(decadereturn)])):\n",
    "               adjdecadereturn.append(decadereturn[i]/((1+rate[i - 12*time]/100)**time))"
   ]
  },
  {
   "cell_type": "code",
   "execution_count": 19,
   "metadata": {},
   "outputs": [],
   "source": [
    "adjearningsyield = []\n",
    "for i in range(len(earningsyield)):\n",
    "    adjearningsyield.append(earningsyield[i] - rate[i]/100)"
   ]
  },
  {
   "cell_type": "code",
   "execution_count": 20,
   "metadata": {},
   "outputs": [],
   "source": [
    "commonlen = shortest([len(decadereturn), len(earningsyield), len(rate), len(ratechange), len(adjdecadereturn), len(pe)])"
   ]
  },
  {
   "cell_type": "code",
   "execution_count": 21,
   "metadata": {},
   "outputs": [
    {
     "name": "stdout",
     "output_type": "stream",
     "text": [
      "         pe    return  adjreturn  ratechange     yield  adjyield  rate\n",
      "0     31.29  1.976416   1.370360    0.282675  0.061920  0.029020  3.29\n",
      "1     27.82  1.960230   1.356519    0.315217  0.057803  0.030203  2.76\n",
      "2     24.97  1.918025   1.323481    0.311024  0.052604  0.027204  2.54\n",
      "3     22.80  1.999358   1.375621    0.256604  0.052882  0.026382  2.65\n",
      "4     26.42  2.119445   1.455438    0.240741  0.052882  0.025882  2.70\n",
      "...     ...       ...        ...         ...       ...       ...   ...\n",
      "1669  13.85  0.334052   0.234540    0.678505  0.082305  0.028805  5.35\n",
      "1670  13.14  0.339869   0.238394    0.680374  0.084388  0.030888  5.35\n",
      "1671  13.07  0.291322   0.204342    0.682243  0.086806  0.033306  5.35\n",
      "1672  12.81  0.294363   0.206475    0.683521  0.088889  0.035489  5.34\n",
      "1673  12.74  0.342495   0.240235    0.685393  0.090090  0.036690  5.34\n",
      "\n",
      "[1674 rows x 7 columns]\n"
     ]
    }
   ],
   "source": [
    "pereturn = {'pe': pe[:commonlen], 'return': decadereturn, 'adjreturn': adjdecadereturn, 'ratechange': ratechange[:commonlen], 'yield': earningsyield[12*time:commonlen + 12*time], 'adjyield': adjearningsyield[12*time:commonlen + 12*time], 'rate': rate[12*time:commonlen + 12*time]}\n",
    "df = pd.DataFrame(pereturn)\n",
    "print(df)"
   ]
  },
  {
   "cell_type": "code",
   "execution_count": 22,
   "metadata": {},
   "outputs": [
    {
     "name": "stdout",
     "output_type": "stream",
     "text": [
      "                  pe    return  adjreturn  ratechange     yield  adjyield  \\\n",
      "pe          1.000000  0.193176   0.213623   -0.313303 -0.167975 -0.295622   \n",
      "return      0.193176  1.000000   0.979753   -0.034800  0.366061  0.021466   \n",
      "adjreturn   0.213623  0.979753   1.000000   -0.140618  0.328390 -0.022415   \n",
      "ratechange -0.313303 -0.034800  -0.140618    1.000000  0.094421  0.274474   \n",
      "yield      -0.167975  0.366061   0.328390    0.094421  1.000000  0.726036   \n",
      "adjyield   -0.295622  0.021466  -0.022415    0.274474  0.726036  1.000000   \n",
      "rate        0.225316  0.404914   0.423195   -0.282458  0.146003 -0.574285   \n",
      "\n",
      "                rate  \n",
      "pe          0.225316  \n",
      "return      0.404914  \n",
      "adjreturn   0.423195  \n",
      "ratechange -0.282458  \n",
      "yield       0.146003  \n",
      "adjyield   -0.574285  \n",
      "rate        1.000000  \n"
     ]
    }
   ],
   "source": [
    "print(df.corr())"
   ]
  },
  {
   "cell_type": "code",
   "execution_count": 33,
   "metadata": {
    "scrolled": true
   },
   "outputs": [
    {
     "data": {
      "text/plain": [
       "[]"
      ]
     },
     "execution_count": 33,
     "metadata": {},
     "output_type": "execute_result"
    },
    {
     "data": {
      "image/png": "[encoded data removed]",
      "text/plain": [
       "<Figure size 432x288 with 1 Axes>"
      ]
     },
     "metadata": {
      "needs_background": "light"
     },
     "output_type": "display_data"
    }
   ],
   "source": [
    "plt.scatter(df['return'], df['pe'])\n",
    "plt.plot()"
   ]
  },
  {
   "cell_type": "code",
   "execution_count": 34,
   "metadata": {},
   "outputs": [
    {
     "name": "stdout",
     "output_type": "stream",
     "text": [
      "10.853449405738413\n"
     ]
    }
   ],
   "source": [
    "returntope = []\n",
    "for i in range(len(df['return'])):\n",
    "    returntope.append(df['return'][i]/df['yield'][i])\n",
    "tempvar = 0\n",
    "for i in range(len(df['return'])):\n",
    "    tempvar += returntope[i]\n",
    "retpe = tempvar/len(df['return'])\n",
    "print(retpe)"
   ]
  },
  {
   "cell_type": "code",
   "execution_count": 37,
   "metadata": {},
   "outputs": [
    {
     "name": "stdout",
     "output_type": "stream",
     "text": [
      "1.2584154620413908\n"
     ]
    }
   ],
   "source": [
    "expected_return = retpe*(1/42)\n",
    "print(expected_return + 1)\n",
    "print(())"
   ]
  }
 ],
 "metadata": {
  "kernelspec": {
   "display_name": "Python 3",
   "language": "python",
   "name": "python3"
  },
  "language_info": {
   "codemirror_mode": {
    "name": "ipython",
    "version": 3
   },
   "file_extension": ".py",
   "mimetype": "text/x-python",
   "name": "python",
   "nbconvert_exporter": "python",
   "pygments_lexer": "ipython3",
   "version": "3.9.1+"
  }
 },
 "nbformat": 4,
 "nbformat_minor": 4
}
